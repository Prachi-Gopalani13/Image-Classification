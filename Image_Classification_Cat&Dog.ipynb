{
  "nbformat": 4,
  "nbformat_minor": 0,
  "metadata": {
    "kernelspec": {
      "display_name": "Python 3",
      "language": "python",
      "name": "python3"
    },
    "language_info": {
      "codemirror_mode": {
        "name": "ipython",
        "version": 3
      },
      "file_extension": ".py",
      "mimetype": "text/x-python",
      "name": "python",
      "nbconvert_exporter": "python",
      "pygments_lexer": "ipython3",
      "version": "3.7.7"
    },
    "colab": {
      "name": "Image_Classification_Cat&Dog.ipynb",
      "provenance": []
    },
    "accelerator": "GPU"
  },
  "cells": [
    {
      "cell_type": "markdown",
      "metadata": {
        "id": "zLlUYu4Aczs7"
      },
      "source": [
        "# Image Classifcation"
      ]
    },
    {
      "cell_type": "markdown",
      "metadata": {
        "id": "18IFFilvc3SM"
      },
      "source": [
        "#### Convolutional Neural Network"
      ]
    },
    {
      "cell_type": "code",
      "metadata": {
        "id": "Iw4ZLnTdcx4Z"
      },
      "source": [
        "# Importing the libraries\n",
        "import tensorflow as tf\n",
        "from tensorflow.keras.preprocessing.image import ImageDataGenerator"
      ],
      "execution_count": 31,
      "outputs": []
    },
    {
      "cell_type": "code",
      "metadata": {
        "id": "QqokaR6xswTn",
        "outputId": "763d99bc-b7cc-4d8e-fb18-a163cc6cfd01",
        "colab": {
          "base_uri": "https://localhost:8080/",
          "height": 34
        }
      },
      "source": [
        "from google.colab import drive\n",
        "drive.mount('/content/drive')"
      ],
      "execution_count": 5,
      "outputs": [
        {
          "output_type": "stream",
          "text": [
            "Mounted at /content/drive\n"
          ],
          "name": "stdout"
        }
      ]
    },
    {
      "cell_type": "markdown",
      "metadata": {
        "id": "uU5l6EhZc7-h"
      },
      "source": [
        "#### Part 1 - Data Preprocessing"
      ]
    },
    {
      "cell_type": "code",
      "metadata": {
        "id": "RwybQHluEkCk",
        "outputId": "4de26f18-1fb1-4d6d-d78c-041909c50e8d",
        "colab": {
          "base_uri": "https://localhost:8080/",
          "height": 50
        }
      },
      "source": [
        "# Preprocessing the Training set\n",
        "train_datagen = ImageDataGenerator(rescale = 1./255,\n",
        "                                   shear_range = 0.2,\n",
        "                                   zoom_range = 0.2,\n",
        "                                   horizontal_flip = True)\n",
        "training_set = train_datagen.flow_from_directory('/content/drive/My Drive/AML/CNN/Cat Dog/Test1',\n",
        "                                                 target_size = (64, 64),\n",
        "                                                 batch_size = 32,\n",
        "                                                 class_mode = 'binary')\n",
        "\n",
        "# Preprocessing the Test set\n",
        "test_datagen = ImageDataGenerator(rescale = 1./255)\n",
        "test_set = test_datagen.flow_from_directory('/content/drive/My Drive/AML/CNN/Cat Dog/Test1',\n",
        "                                            target_size = (64, 64),\n",
        "                                            batch_size = 32,\n",
        "                                            class_mode = 'binary')"
      ],
      "execution_count": 32,
      "outputs": [
        {
          "output_type": "stream",
          "text": [
            "Found 1068 images belonging to 2 classes.\n",
            "Found 1068 images belonging to 2 classes.\n"
          ],
          "name": "stdout"
        }
      ]
    },
    {
      "cell_type": "markdown",
      "metadata": {
        "id": "hA1Qch9AdAe1"
      },
      "source": [
        "#### Part 2 - Building the CNN"
      ]
    },
    {
      "cell_type": "code",
      "metadata": {
        "id": "pYVIGXxGEkC9"
      },
      "source": [
        "# Initialising the CNN\n",
        "cnn = tf.keras.models.Sequential()\n",
        "\n",
        "# Step 1 - Convolution\n",
        "cnn.add(tf.keras.layers.Conv2D(filters=32, kernel_size=3, activation='relu', input_shape=[64, 64, 3]))\n",
        "\n",
        "# Step 2 - Pooling\n",
        "cnn.add(tf.keras.layers.MaxPool2D(pool_size=2, strides=2))\n",
        "\n",
        "# Adding a second convolutional layer\n",
        "cnn.add(tf.keras.layers.Conv2D(filters=32, kernel_size=3, activation='relu'))\n",
        "cnn.add(tf.keras.layers.MaxPool2D(pool_size=2, strides=2))\n",
        "\n",
        "# Step 3 - Flattening\n",
        "cnn.add(tf.keras.layers.Flatten())\n",
        "\n",
        "# Step 4 - Full Connection\n",
        "cnn.add(tf.keras.layers.Dense(units=128, activation='relu'))\n",
        "\n",
        "# Step 5 - Output Layer\n",
        "cnn.add(tf.keras.layers.Dense(units=1, activation='sigmoid'))"
      ],
      "execution_count": 33,
      "outputs": []
    },
    {
      "cell_type": "code",
      "metadata": {
        "id": "2dGBtUDHEkDS",
        "outputId": "b62ddeb6-d338-4650-8969-37af5cf85e41",
        "colab": {
          "base_uri": "https://localhost:8080/",
          "height": 386
        }
      },
      "source": [
        "cnn.summary()"
      ],
      "execution_count": 34,
      "outputs": [
        {
          "output_type": "stream",
          "text": [
            "Model: \"sequential_1\"\n",
            "_________________________________________________________________\n",
            "Layer (type)                 Output Shape              Param #   \n",
            "=================================================================\n",
            "conv2d_2 (Conv2D)            (None, 62, 62, 32)        896       \n",
            "_________________________________________________________________\n",
            "max_pooling2d_2 (MaxPooling2 (None, 31, 31, 32)        0         \n",
            "_________________________________________________________________\n",
            "conv2d_3 (Conv2D)            (None, 29, 29, 32)        9248      \n",
            "_________________________________________________________________\n",
            "max_pooling2d_3 (MaxPooling2 (None, 14, 14, 32)        0         \n",
            "_________________________________________________________________\n",
            "flatten_1 (Flatten)          (None, 6272)              0         \n",
            "_________________________________________________________________\n",
            "dense_2 (Dense)              (None, 128)               802944    \n",
            "_________________________________________________________________\n",
            "dense_3 (Dense)              (None, 1)                 129       \n",
            "=================================================================\n",
            "Total params: 813,217\n",
            "Trainable params: 813,217\n",
            "Non-trainable params: 0\n",
            "_________________________________________________________________\n"
          ],
          "name": "stdout"
        }
      ]
    },
    {
      "cell_type": "markdown",
      "metadata": {
        "id": "OrX6o226dFnM"
      },
      "source": [
        "#### Part 3 - Training the CNN"
      ]
    },
    {
      "cell_type": "code",
      "metadata": {
        "id": "Ah3xGfgGEkDe",
        "outputId": "09c8cb2f-4ec9-4997-9784-c0030de5f059",
        "colab": {
          "base_uri": "https://localhost:8080/",
          "height": 874
        }
      },
      "source": [
        "# Compiling the CNN\n",
        "cnn.compile(optimizer = 'adam', loss = 'binary_crossentropy', metrics = ['accuracy'])\n",
        "\n",
        "# Training the CNN on the Training set and evaluating it on the Test set\n",
        "cnn.fit(x = training_set, validation_data = test_set, epochs = 25)"
      ],
      "execution_count": 35,
      "outputs": [
        {
          "output_type": "stream",
          "text": [
            "Epoch 1/25\n",
            "34/34 [==============================] - 8s 232ms/step - loss: 0.7013 - accuracy: 0.5384 - val_loss: 0.6883 - val_accuracy: 0.5543\n",
            "Epoch 2/25\n",
            "34/34 [==============================] - 8s 227ms/step - loss: 0.6857 - accuracy: 0.5787 - val_loss: 0.6775 - val_accuracy: 0.5356\n",
            "Epoch 3/25\n",
            "34/34 [==============================] - 8s 231ms/step - loss: 0.6602 - accuracy: 0.5993 - val_loss: 0.6310 - val_accuracy: 0.6273\n",
            "Epoch 4/25\n",
            "34/34 [==============================] - 8s 228ms/step - loss: 0.6326 - accuracy: 0.6330 - val_loss: 0.5881 - val_accuracy: 0.6845\n",
            "Epoch 5/25\n",
            "34/34 [==============================] - 8s 228ms/step - loss: 0.6270 - accuracy: 0.6732 - val_loss: 0.6510 - val_accuracy: 0.6479\n",
            "Epoch 6/25\n",
            "34/34 [==============================] - 8s 230ms/step - loss: 0.6302 - accuracy: 0.6470 - val_loss: 0.5887 - val_accuracy: 0.7060\n",
            "Epoch 7/25\n",
            "34/34 [==============================] - 8s 230ms/step - loss: 0.5995 - accuracy: 0.6845 - val_loss: 0.5561 - val_accuracy: 0.7257\n",
            "Epoch 8/25\n",
            "34/34 [==============================] - 8s 227ms/step - loss: 0.5706 - accuracy: 0.7004 - val_loss: 0.5426 - val_accuracy: 0.7275\n",
            "Epoch 9/25\n",
            "34/34 [==============================] - 8s 222ms/step - loss: 0.5488 - accuracy: 0.7247 - val_loss: 0.5387 - val_accuracy: 0.7275\n",
            "Epoch 10/25\n",
            "34/34 [==============================] - 8s 225ms/step - loss: 0.5284 - accuracy: 0.7397 - val_loss: 0.5048 - val_accuracy: 0.7603\n",
            "Epoch 11/25\n",
            "34/34 [==============================] - 8s 234ms/step - loss: 0.5159 - accuracy: 0.7594 - val_loss: 0.4959 - val_accuracy: 0.7706\n",
            "Epoch 12/25\n",
            "34/34 [==============================] - 8s 242ms/step - loss: 0.5071 - accuracy: 0.7584 - val_loss: 0.4968 - val_accuracy: 0.7453\n",
            "Epoch 13/25\n",
            "34/34 [==============================] - 8s 223ms/step - loss: 0.4974 - accuracy: 0.7631 - val_loss: 0.4259 - val_accuracy: 0.8071\n",
            "Epoch 14/25\n",
            "34/34 [==============================] - 8s 222ms/step - loss: 0.4620 - accuracy: 0.7772 - val_loss: 0.3906 - val_accuracy: 0.8268\n",
            "Epoch 15/25\n",
            "34/34 [==============================] - 8s 229ms/step - loss: 0.4111 - accuracy: 0.8155 - val_loss: 0.4344 - val_accuracy: 0.7846\n",
            "Epoch 16/25\n",
            "34/34 [==============================] - 8s 226ms/step - loss: 0.4305 - accuracy: 0.8015 - val_loss: 0.3961 - val_accuracy: 0.8043\n",
            "Epoch 17/25\n",
            "34/34 [==============================] - 8s 227ms/step - loss: 0.4066 - accuracy: 0.8258 - val_loss: 0.3848 - val_accuracy: 0.8146\n",
            "Epoch 18/25\n",
            "34/34 [==============================] - 8s 228ms/step - loss: 0.3628 - accuracy: 0.8455 - val_loss: 0.2915 - val_accuracy: 0.8811\n",
            "Epoch 19/25\n",
            "34/34 [==============================] - 8s 230ms/step - loss: 0.3490 - accuracy: 0.8380 - val_loss: 0.2788 - val_accuracy: 0.8792\n",
            "Epoch 20/25\n",
            "34/34 [==============================] - 8s 228ms/step - loss: 0.3328 - accuracy: 0.8539 - val_loss: 0.2544 - val_accuracy: 0.8961\n",
            "Epoch 21/25\n",
            "34/34 [==============================] - 8s 229ms/step - loss: 0.3196 - accuracy: 0.8605 - val_loss: 0.2363 - val_accuracy: 0.9157\n",
            "Epoch 22/25\n",
            "34/34 [==============================] - 8s 232ms/step - loss: 0.3126 - accuracy: 0.8708 - val_loss: 0.2613 - val_accuracy: 0.8970\n",
            "Epoch 23/25\n",
            "34/34 [==============================] - 8s 240ms/step - loss: 0.2879 - accuracy: 0.8830 - val_loss: 0.2000 - val_accuracy: 0.9195\n",
            "Epoch 24/25\n",
            "34/34 [==============================] - 8s 230ms/step - loss: 0.2592 - accuracy: 0.9007 - val_loss: 0.2272 - val_accuracy: 0.9073\n",
            "Epoch 25/25\n",
            "34/34 [==============================] - 8s 226ms/step - loss: 0.2600 - accuracy: 0.8858 - val_loss: 0.1721 - val_accuracy: 0.9363\n"
          ],
          "name": "stdout"
        },
        {
          "output_type": "execute_result",
          "data": {
            "text/plain": [
              "<tensorflow.python.keras.callbacks.History at 0x7f7f8069c6d8>"
            ]
          },
          "metadata": {
            "tags": []
          },
          "execution_count": 35
        }
      ]
    },
    {
      "cell_type": "code",
      "metadata": {
        "id": "PCJBQ18SEkDr"
      },
      "source": [
        "# save it as a h5 file\n",
        "from tensorflow.keras.models import load_model\n",
        "cnn.save('model_rcat_dog.h5')"
      ],
      "execution_count": 10,
      "outputs": []
    },
    {
      "cell_type": "markdown",
      "metadata": {
        "id": "B-SfN_ybdQGJ"
      },
      "source": [
        "#### Part 4 - Making a single prediction"
      ]
    },
    {
      "cell_type": "markdown",
      "metadata": {
        "id": "PzN-4aq6dUHd"
      },
      "source": [
        "#### Example 1"
      ]
    },
    {
      "cell_type": "code",
      "metadata": {
        "id": "Km5s30EWEkD4",
        "outputId": "ea302deb-fc29-41b3-fce1-7d82dd27f3f4",
        "colab": {
          "base_uri": "https://localhost:8080/",
          "height": 285
        }
      },
      "source": [
        "import numpy as np\n",
        "from tensorflow.keras.preprocessing import image\n",
        "test_image = image.load_img('/content/drive/My Drive/AML/CNN/Cat Dog/Test1/cats/cat.4030.jpg', target_size = (64, 64))\n",
        "imgplot = plt.imshow(test_image)\n",
        "test_image = image.img_to_array(test_image)\n",
        "test_image=test_image/255\n",
        "test_image = np.expand_dims(test_image, axis = 0)\n",
        "result = cnn.predict(test_image)\n",
        "\n",
        "\n",
        "if result[0]<=0.5:\n",
        "    print(\"The image classified is cat\")\n",
        "else:\n",
        "    print(\"The image classified is dog\")"
      ],
      "execution_count": 23,
      "outputs": [
        {
          "output_type": "stream",
          "text": [
            "The image classified is cat\n"
          ],
          "name": "stdout"
        },
        {
          "output_type": "display_data",
          "data": {
            "image/png": "[encoded data removed]",
            "text/plain": [
              "<Figure size 432x288 with 1 Axes>"
            ]
          },
          "metadata": {
            "tags": [],
            "needs_background": "light"
          }
        }
      ]
    },
    {
      "cell_type": "markdown",
      "metadata": {
        "id": "_E5Ey_-5dcC9"
      },
      "source": [
        "#### Example 2"
      ]
    },
    {
      "cell_type": "code",
      "metadata": {
        "id": "q8-bYcxI2Evr",
        "outputId": "97e0dcee-67da-4cd2-9492-c615039fe3e3",
        "colab": {
          "base_uri": "https://localhost:8080/",
          "height": 285
        }
      },
      "source": [
        "import numpy as np\n",
        "from tensorflow.keras.preprocessing import image\n",
        "test_image = image.load_img('/content/drive/My Drive/AML/CNN/Cat Dog/Test1/dogs/dog.4007.jpg', target_size = (64, 64))\n",
        "imgplot = plt.imshow(test_image)\n",
        "test_image = image.img_to_array(test_image)\n",
        "test_image=test_image/255\n",
        "test_image = np.expand_dims(test_image, axis = 0)\n",
        "result = cnn.predict(test_image)\n",
        "\n",
        "result = cnn.predict(test_image)\n",
        "\n",
        "\n",
        "if result[0]<=0.5:\n",
        "    print(\"The image classified is cat\")\n",
        "else:\n",
        "    print(\"The image classified is dog\")"
      ],
      "execution_count": 30,
      "outputs": [
        {
          "output_type": "stream",
          "text": [
            "The image classified is dog\n"
          ],
          "name": "stdout"
        },
        {
          "output_type": "display_data",
          "data": {
            "image/png": "[encoded data removed]",
            "text/plain": [
              "<Figure size 432x288 with 1 Axes>"
            ]
          },
          "metadata": {
            "tags": [],
            "needs_background": "light"
          }
        }
      ]
    },
    {
      "cell_type": "code",
      "metadata": {
        "id": "TTEz0Tw12Uj7"
      },
      "source": [
        ""
      ],
      "execution_count": null,
      "outputs": []
    }
  ]
}